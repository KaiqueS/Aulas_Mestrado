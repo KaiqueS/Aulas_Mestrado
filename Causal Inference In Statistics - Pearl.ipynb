{
 "cells": [
  {
   "cell_type": "markdown",
   "metadata": {},
   "source": [
    "<b> 1.4 - Graphs </b>\n",
    "\n",
    "A graph is a <i>collection of vertices connected by edges</i>.\n",
    "\n",
    "When two or more nodes are connected by an edge, we say that those nodes are <i>adjacent</i> to each other.\n",
    "\n",
    "A graph is said to be <i>complete</i> when any two nodes are connectec by an edge.\n",
    "\n",
    "A <i>path</i> between a pair a and b of nodes is a sequence of nodes beginning at a and ending at b, where any node in this sequence, except for the beginning and ending nodes, are connected to with its previous and next nodes through an edge.\n",
    "\n",
    "<i>Edges</i> in a graph can be <i>directed</i> and <i>undirected<i/>. For any pair of nodes a and b, we say that an edge is <i>directed</i> when there is an edge from a to b, but not an edge from b to a. In this case, we call a the </i>parent</i> node and b the <i>child</i> node.\n",
    "\n",
    "A path is <i>directed</i> if not one node in it has two edges into it or out of it. When two nodes are connected by a directed path, the first node is called <i>ancestor</i> and the second node is called <i>descendant</i>.\n",
    "\n",
    "If there is a directed path to a node back to itself, then the path is called <i>cyclic</i>. Else, it is called <i>acyclic</i>\n",
    "\n",
    "<b>1.4.1</b>\n",
    "\n",
    "a) W, Y\n",
    "\n",
    "b) X, Y, W\n",
    "\n",
    "c) Y, Z\n",
    "\n",
    "d) Y, Z, T\n",
    "\n",
    "e) X -> W -> Y -> Z -> T\n",
    "\n",
    "   X -> Y -> Z -> T\n",
    "   \n",
    "   X -> W -> Z -> T\n",
    "   \n",
    "   X -> Y -> T\n",
    "\n",
    "f) Same as e)\n",
    "\n",
    "<b>1.5 - Structural Causal Models</b>\n",
    "\n",
    "<i>1.5.1 - Modeling Causal Assumptions</i>\n",
    "\n",
    "A structural causal modelis a triple ( U, V, f ) of sets, where U and V are sets of variables, and f is a set of functions from V to a set of values. U is the set of <i>exogenous variables</i>, the variables external to the model. V is the set of <i>endogenous variables</i>. Any v in V is a descendant of at least one u in U, whereas no u in U is a descendant of other variables, be them endogenous or exogenous. Exogenous variables are also called <i>root</i> nodes in graphs.\n",
    "\n",
    "X is said to be a <i>direct cause</i> of Y if X appears in the function that assigns Y's value. NOTE: this explanation is as bullshitty as the definition of the functions in a SCM.\n",
    "\n",
    "X is said to be a <i>cause</i> of Y if X is a direct cause or of any cause of Y. I.e., is X is a direct cause of Y or a direct cause of Z, which is a direct cause of Y. E.g., X -> Z -> Y.\n",
    "\n",
    "A <i>graphical causal model</i>, which are graphical representations of SCM's, consists in a set of nodes, each representing a variable either in U or V of the SCM, and a set of functions f, which are represented by edges in the graph. Edges are constructed in the following way: if, in a SCM M, a variable X associated with a function f<sub>X</sub> contains within it a variable Y, i.e., if X depends on Y, then, there will be in G an edge from Y to X. Even if a graphical model specifies a SCM, it is not possible to fully specify a SCM solely from a graph, because it is not possible to access the definition of the function behind an edge. \n",
    "\n",
    "<b>1.5.1</b>\n",
    "\n",
    "a) U_X  U_Y  U_Z\n",
    "    |    |    |\n",
    "    X -> Y -> Z\n",
    "    \n",
    "b) E[ Z | Y = 3 ] = "
   ]
  },
  {
   "cell_type": "code",
   "execution_count": null,
   "metadata": {},
   "outputs": [],
   "source": []
  }
 ],
 "metadata": {
  "kernelspec": {
   "display_name": "Python 3",
   "language": "python",
   "name": "python3"
  },
  "language_info": {
   "codemirror_mode": {
    "name": "ipython",
    "version": 3
   },
   "file_extension": ".py",
   "mimetype": "text/x-python",
   "name": "python",
   "nbconvert_exporter": "python",
   "pygments_lexer": "ipython3",
   "version": "3.7.4"
  }
 },
 "nbformat": 4,
 "nbformat_minor": 4
}
